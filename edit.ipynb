{
 "cells": [
  {
   "cell_type": "code",
   "execution_count": 1,
   "metadata": {},
   "outputs": [
    {
     "name": "stdout",
     "output_type": "stream",
     "text": [
      "[[0 1 2 3 4 5 6 7]\n",
      " [1 2 3 4 5 6 7 8]\n",
      " [2 3 2 3 4 5 6 7]\n",
      " [3 4 3 2 3 4 5 6]\n",
      " [4 5 4 3 2 3 4 5]\n",
      " [5 6 5 4 3 4 5 6]\n",
      " [6 7 6 5 4 5 4 5]]\n"
     ]
    }
   ],
   "source": [
    "## Basic procedure to\n",
    "## Scoring matrix delta is implemented as a function (given as argument to dp)\n",
    "import pdb\n",
    "from numpy import zeros, arange, argmin\n",
    "\n",
    "def dp(v,w, delta, gap=1):\n",
    "    n = len(v)\n",
    "    m = len(w)\n",
    "    D = zeros((n+1, m+1), dtype=int)\n",
    "    b = zeros((n+1, m+1), dtype=int)\n",
    "    b[0,1:] = 1\n",
    "\n",
    "    D[0] = arange(m+1) * gap\n",
    "    D[:,0] = arange(n+1) * gap\n",
    "    for i in range(1,n+1):\n",
    "        for j in range(1,m+1):\n",
    "            options = [D[i-1,j] + gap,\n",
    "                       D[i,j-1] + gap,\n",
    "                       D[i-1,j-1] + delta(v[i-1], w[j-1])\n",
    "                       ]\n",
    "            bestOption = argmin(options) # only considers one best option, breaks ties randomly, kind of\n",
    "            D[i,j] = options[bestOption]\n",
    "            b[i,j] = bestOption # better to note down all\n",
    "    return D,b\n",
    "\n",
    "def printAlignment(v,w,b):\n",
    "    print (b, b.shape, b.shape==(0,0))\n",
    "    ## 0 stands for coming from N\n",
    "    ## 1 stands for coming from W\n",
    "    ## 2 stands for coming from NW, ie. either mismatch or match,\n",
    "    ## Your code here\n",
    "    return\n",
    "\n",
    "def delta(a, b, matchscore=0, mismatch=2):\n",
    "    if a==b: return matchscore\n",
    "    else: return mismatch\n"
   ]
  },
  {
   "cell_type": "code",
   "execution_count": 9,
   "metadata": {},
   "outputs": [
    {
     "name": "stdout",
     "output_type": "stream",
     "text": [
      "[[0 1 2 3 4 5 6 7]\n",
      " [1 2 3 4 5 6 7 8]\n",
      " [2 3 2 3 4 5 6 7]\n",
      " [3 4 3 2 3 4 5 6]\n",
      " [4 5 4 3 2 3 4 5]\n",
      " [5 6 5 4 3 4 5 6]\n",
      " [6 7 6 5 4 5 4 5]]\n"
     ]
    }
   ],
   "source": [
    "\n",
    "if __name__ == \"__main__\":    \n",
    "    D,b = dp('kitten', 'sitting', delta, gap=1)\n",
    "    #D,b = dp('BANANA', 'BAHAMAS', delta, gap=1)\n",
    "    #D,b = dp('KINDLE', 'KINKLA', delta, gap=1)\n",
    "    print(D)\n",
    "\n",
    "            \n",
    "\n",
    "\n"
   ]
  },
  {
   "cell_type": "code",
   "execution_count": null,
   "metadata": {},
   "outputs": [],
   "source": []
  }
 ],
 "metadata": {
  "kernelspec": {
   "display_name": "Python 3 (ipykernel)",
   "language": "python",
   "name": "python3"
  },
  "language_info": {
   "codemirror_mode": {
    "name": "ipython",
    "version": 3
   },
   "file_extension": ".py",
   "mimetype": "text/x-python",
   "name": "python",
   "nbconvert_exporter": "python",
   "pygments_lexer": "ipython3",
   "version": "3.9.13"
  },
  "vscode": {
   "interpreter": {
    "hash": "11be3076cf2cafc4491ef3cdfd6b93152e2c1b86529cc88a024a610b82758805"
   }
  }
 },
 "nbformat": 4,
 "nbformat_minor": 2
}
