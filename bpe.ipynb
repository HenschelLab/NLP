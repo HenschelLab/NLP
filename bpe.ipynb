{
 "cells": [
  {
   "cell_type": "code",
   "execution_count": 1,
   "metadata": {},
   "outputs": [],
   "source": [
    "#!/usr/bin/env python3\n",
    "# -*- coding: utf-8 -*-\n",
    "\"\"\"\n",
    "Created on Sun Sep  4 14:01:51 2022\n",
    "\n",
    "@author: ahenschel\n",
    "\n",
    "Byte-pair Encoding\n",
    "\n",
    "Example From Jurafsky/Martin, Fig 2.13\n",
    "\"\"\"\n",
    "\n",
    "from collections import Counter\n",
    "def extractVocabulary(corpus):\n",
    "    return list(set(''.join(corpus.keys())))\n",
    "\n",
    "def mostFreqPair(corpus):\n",
    "    c2grams = Counter()\n",
    "    for word, count in corpus.items():\n",
    "        word_ = word.split()\n",
    "        twograms = [tuple(word_[i:i+2]) for i in range(len(word_)-1)]\n",
    "        c2grams += Counter(twograms*count)\n",
    "    return c2grams.most_common()[0][0]\n",
    "\n",
    "def updateCorpus(corpus, doubleToken):\n",
    "    dt1 = ' '.join(doubleToken)\n",
    "    dt2 = ''.join(doubleToken)\n",
    "    return {word.replace(dt1, dt2):count for word, count in corpus.items()}\n",
    "    \n",
    "def bpe(corpus, k):\n",
    "    V = extractVocabulary(corpus)\n",
    "    for i in range(k):    \n",
    "        tnew = mostFreqPair(corpus)\n",
    "        V.append(''.join(tnew))\n",
    "        corpus = updateCorpus(corpus, tnew)\n",
    "    return V, corpus\n"
   ]
  },
  {
   "cell_type": "code",
   "execution_count": 2,
   "metadata": {},
   "outputs": [],
   "source": [
    "\n",
    "def tokenParser(word, tokens):\n",
    "    for token in tokens:\n",
    "        token2 = ''.token\n",
    "        word.replace\n"
   ]
  },
  {
   "cell_type": "code",
   "execution_count": 3,
   "metadata": {},
   "outputs": [],
   "source": [
    "\n",
    "k = 15 # so to match the book\n",
    "corpus = {'l o w _': 5, \n",
    "          'l o w e s t _': 2,\n",
    "          'n e w e r _': 6,\n",
    "          'w i d e r _': 3,\n",
    "          'n e w _': 2}\n",
    "\n",
    "V, corpus = bpe(corpus, k)\n",
    "\n",
    "    \n",
    "\n",
    "\n"
   ]
  },
  {
   "cell_type": "code",
   "execution_count": 5,
   "metadata": {},
   "outputs": [
    {
     "name": "stdout",
     "output_type": "stream",
     "text": [
      "Pretty printing has been turned OFF\n"
     ]
    },
    {
     "data": {
      "text/plain": [
       "['n', 'o', 'e', 'r', 's', 'w', '_', 't', 'l', 'd', 'i', ' ', 'er', 'er_', 'ne', 'new', 'lo', 'low', 'newer_', 'low_', 'wi', 'wid', 'wider_', 'lowe', 'lowes', 'lowest', 'lowest_']"
      ]
     },
     "execution_count": 5,
     "metadata": {},
     "output_type": "execute_result"
    }
   ],
   "source": [
    "%pprint\n",
    "V"
   ]
  },
  {
   "cell_type": "code",
   "execution_count": 6,
   "metadata": {},
   "outputs": [
    {
     "data": {
      "text/plain": [
       "{'low_': 5, 'lowest_': 2, 'newer_': 6, 'wider_': 3, 'new _': 2}"
      ]
     },
     "execution_count": 6,
     "metadata": {},
     "output_type": "execute_result"
    }
   ],
   "source": [
    "corpus"
   ]
  },
  {
   "cell_type": "code",
   "execution_count": null,
   "metadata": {},
   "outputs": [],
   "source": []
  }
 ],
 "metadata": {
  "kernelspec": {
   "display_name": "Python 3.9.13 ('speech')",
   "language": "python",
   "name": "python3"
  },
  "language_info": {
   "codemirror_mode": {
    "name": "ipython",
    "version": 3
   },
   "file_extension": ".py",
   "mimetype": "text/x-python",
   "name": "python",
   "nbconvert_exporter": "python",
   "pygments_lexer": "ipython3",
   "version": "3.9.13"
  },
  "orig_nbformat": 4,
  "vscode": {
   "interpreter": {
    "hash": "11be3076cf2cafc4491ef3cdfd6b93152e2c1b86529cc88a024a610b82758805"
   }
  }
 },
 "nbformat": 4,
 "nbformat_minor": 2
}
